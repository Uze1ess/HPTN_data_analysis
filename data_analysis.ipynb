{
 "cells": [
  {
   "cell_type": "markdown",
   "id": "af2650c6",
   "metadata": {},
   "source": [
    "Khai phá và phân tích dữ liệu"
   ]
  },
  {
   "cell_type": "code",
   "execution_count": 2,
   "id": "ba3fabba",
   "metadata": {},
   "outputs": [],
   "source": [
    "import os\n",
    "import random\n",
    "import xml.etree.ElementTree as ET\n",
    "import matplotlib.pyplot as plt\n",
    "import seaborn as sns\n",
    "import cv2\n",
    "from collections import Counter\n",
    "import glob\n",
    "import pandas as pd\n",
    "from roboflow import Roboflow\n",
    "import json\n",
    "import numpy as np"
   ]
  },
  {
   "cell_type": "markdown",
   "id": "4400efd3",
   "metadata": {},
   "source": [
    "Phân tích bộ dữ liệu gốc"
   ]
  },
  {
   "cell_type": "code",
   "execution_count": null,
   "id": "56870b70",
   "metadata": {},
   "outputs": [],
   "source": [
    "# Dowload the dataset from Roboflow\n",
    "\n",
    "from roboflow import Roboflow\n",
    "rf = Roboflow(api_key=\"lsMUyqEwAhueesw6QDJe\")\n",
    "project = rf.workspace(\"yololam\").project(\"sh17_original\")\n",
    "version = project.version(1)\n",
    "dataset = version.download(\"yolov8\")"
   ]
  },
  {
   "cell_type": "code",
   "execution_count": null,
   "id": "6b66cb16",
   "metadata": {},
   "outputs": [],
   "source": [
    "# Dataset path\n",
    "# Đặt lại tên giống thư mục dữ liệu được tải xuống\n",
    "\n",
    "BASE_PATH = \"./SH17_Original-1\"\n",
    "print(os.listdir(BASE_PATH))"
   ]
  },
  {
   "cell_type": "code",
   "execution_count": 52,
   "id": "5af404ab",
   "metadata": {},
   "outputs": [],
   "source": [
    "IMAGES_PATH = os.path.join(BASE_PATH, \"train/images\")\n",
    "LABELS_PATH = os.path.join(BASE_PATH, \"train/labels\")\n",
    "TRAIN_FILES = os.path.join(BASE_PATH, \"train_files.txt\")\n",
    "VAL_FILES = os.path.join(BASE_PATH, \"val_files.txt\")"
   ]
  },
  {
   "cell_type": "code",
   "execution_count": 53,
   "id": "12f95d34",
   "metadata": {},
   "outputs": [],
   "source": [
    "def list_files_in_folder(folder_path, extension):\n",
    "    \"\"\"List all files with a specific extension in a folder.\"\"\"\n",
    "    return sorted(glob.glob(os.path.join(folder_path, f\"*.{extension}\")))\n",
    "\n",
    "def load_metadata(metadata_path):\n",
    "    \"\"\"Load metadata JSON file.\"\"\"\n",
    "    with open(metadata_path, 'r') as f:\n",
    "        return json.load(f)\n",
    "\n",
    "def load_label(label_path):\n",
    "    \"\"\"Load YOLO label file and parse it.\"\"\"\n",
    "    with open(label_path, 'r') as f:\n",
    "        lines = f.readlines()\n",
    "    return [line.strip().split() for line in lines]"
   ]
  },
  {
   "cell_type": "code",
   "execution_count": 54,
   "id": "d7755149",
   "metadata": {},
   "outputs": [],
   "source": [
    "# Tần xuất xuất hiện của các lớp trong tập dữ liệu\n",
    "\n",
    "def analyze_class_distribution(labels_folder):\n",
    "    \"\"\"Analyze class distribution across all labels.\"\"\"\n",
    "    \n",
    "    labels = list_files_in_folder(labels_folder, 'txt')\n",
    "        \n",
    "    class_instance_counter = Counter()\n",
    "    class_image_counter = Counter()\n",
    "  \n",
    "    for label_file in labels:\n",
    "        annotations = load_label(label_file)\n",
    "        tmp_set = set()\n",
    "        for annotation in annotations:\n",
    "            class_id = annotation[0]\n",
    "            class_instance_counter[class_id] += 1\n",
    "            if class_id not in tmp_set : \n",
    "                class_image_counter[class_id] += 1\n",
    "                tmp_set.add(class_id)\n",
    "                \n",
    "    # Create first DataFrame with instance counts\n",
    "    df = pd.DataFrame(class_instance_counter.items(), columns=['Class_ID', 'Count Instances'])\n",
    "    df['Class_ID'] = df['Class_ID'].astype(int)\n",
    "    df = df.sort_values('Class_ID')\n",
    "    \n",
    "    # Create second DataFrame with image counts\n",
    "    df_img_count = pd.DataFrame(class_image_counter.items(), columns=['Class_ID', 'Count Images'])\n",
    "    df_img_count['Class_ID'] = df_img_count['Class_ID'].astype(int)\n",
    "    df_img_count = df_img_count.sort_values('Class_ID')\n",
    "    \n",
    "    # Merge the DataFrames on Class_ID\n",
    "    combined_df = pd.merge(df, df_img_count, on='Class_ID', how='outer')\n",
    "    \n",
    "    # Sort by Class_ID and reset index\n",
    "    combined_df = combined_df.sort_values('Class_ID').reset_index(drop=True)\n",
    "    \n",
    "    return combined_df"
   ]
  },
  {
   "cell_type": "code",
   "execution_count": null,
   "id": "35ca42ee",
   "metadata": {},
   "outputs": [],
   "source": [
    "class_df = analyze_class_distribution(LABELS_PATH)\n",
    "class_df.head()"
   ]
  },
  {
   "cell_type": "code",
   "execution_count": 56,
   "id": "0f1c0394",
   "metadata": {},
   "outputs": [],
   "source": [
    "# Vẽ sơ đồ phân phối lớp\n",
    "\n",
    "def plot_class_distribution(df, class_names, figsize=(12, 6)):\n",
    "    \"\"\"Plot class distribution with percentages and colors.\"\"\"\n",
    "    # Calculate percentages\n",
    "    total = df['Count'].sum()\n",
    "    df['Percentage'] = ((df['Count'] / total) * 100).round(1)\n",
    "\n",
    "    # Sort the DataFrame by counts in descending order\n",
    "    df = df.sort_values('Count', ascending=False)\n",
    "\n",
    "    df['Class_Name'] = df['Class_ID'].map(lambda x: class_names[int(x)]) # Cần hiểu thêm\n",
    "\n",
    "    # Create the plot\n",
    "    plt.figure(figsize=figsize)\n",
    "    colors = sns.color_palette(\"husl\", len(df))  \n",
    "    barplot = sns.barplot(\n",
    "        x='Class_Name', \n",
    "        y='Count', \n",
    "        data=df, \n",
    "        palette=colors\n",
    "    )\n",
    "\n",
    "    # Add percentage labels above the bars\n",
    "    for i, row in enumerate(df.itertuples()):\n",
    "        barplot.text(\n",
    "            i, \n",
    "            row.Count + total * 0.003,  \n",
    "            f\"{row.Percentage}%\", \n",
    "            ha='center', \n",
    "            fontsize=10, \n",
    "            color='black'\n",
    "        )\n",
    "    \n",
    "    # Add labels and title\n",
    "    plt.xlabel(\"Categories\", fontsize=12)\n",
    "    plt.ylabel(\"Instances\", fontsize=12)\n",
    "    plt.title(\"Class Distribution with Percentages\", fontsize=14)\n",
    "    plt.xticks(rotation=45, ha='right')\n",
    "    plt.grid(axis='y', linestyle='--', alpha=0.7)\n",
    "    plt.tight_layout()\n",
    "    plt.show()"
   ]
  },
  {
   "cell_type": "code",
   "execution_count": null,
   "id": "485c119c",
   "metadata": {},
   "outputs": [],
   "source": [
    "class_names = ['ear', 'ear-mufs', 'face', 'face-guard', 'face-mask', 'foot', 'glasses', \n",
    "               'gloves', 'hands', 'head', 'helmet', 'medical-suit', 'no-gloves', 'no-helmet', \n",
    "               'no-safety-vest', 'person', 'safety-suit', 'safety-vest', 'shoes', 'tool']\n",
    "plot_class_distribution(class_df.rename(columns={'Count Instances': 'Count'}), class_names)"
   ]
  },
  {
   "cell_type": "code",
   "execution_count": 50,
   "id": "18e49f8b",
   "metadata": {},
   "outputs": [],
   "source": [
    "# Hiển thị một ảnh bất kỳ kèm bounding box\n",
    "\n",
    "def visualize_annotations(image_path, label_path, title=''):\n",
    "    \"\"\"Display an image with its bounding boxes.\"\"\"\n",
    "    img = cv2.imread(image_path)\n",
    "    img = cv2.cvtColor(img, cv2.COLOR_BGR2RGB)\n",
    "\n",
    "    annotations = load_label(label_path)\n",
    "    for annotation in annotations:\n",
    "        class_id = int(annotation[0])\n",
    "        x_center, y_center, width, height = map(float, annotation[1:])\n",
    "        \n",
    "        # Convert YOLO format to pixel coordinates\n",
    "        h, w, _ = img.shape\n",
    "        xmin = int((x_center - width / 2) * w)\n",
    "        ymin = int((y_center - height / 2) * h)\n",
    "        xmax = int((x_center + width / 2) * w)\n",
    "        ymax = int((y_center + height / 2) * h)\n",
    "\n",
    "        cv2.rectangle(img, (xmin, ymin), (xmax, ymax), (255, 0, 0), 2)\n",
    "\n",
    "        cv2.putText(img, str(class_id), (xmin, ymin - 10), cv2.FONT_HERSHEY_SIMPLEX, 0.5, (255, 0, 0), 2)\n",
    "\n",
    "        plt.figure(figsize=(8, 8))\n",
    "        plt.imshow(img)\n",
    "        plt.title(title)\n",
    "        plt.axis('off')\n",
    "        plt.show()"
   ]
  },
  {
   "cell_type": "code",
   "execution_count": null,
   "id": "2c4acd3d",
   "metadata": {},
   "outputs": [],
   "source": [
    "sample_image = f'{IMAGES_PATH}/pexels-photo-824300_jpeg.rf.25eff5b732dcf80b0d854bf8756dc774.jpg'\n",
    "sample_label = f'{LABELS_PATH}/pexels-photo-824300_jpeg.rf.25eff5b732dcf80b0d854bf8756dc774.txt'\n",
    "visualize_annotations(sample_image, sample_label)"
   ]
  },
  {
   "cell_type": "markdown",
   "id": "e50fc0d7",
   "metadata": {},
   "source": [
    "Phân tích bộ dữ liệu sau khi được xử lý"
   ]
  },
  {
   "cell_type": "code",
   "execution_count": null,
   "id": "1972e15d",
   "metadata": {},
   "outputs": [],
   "source": [
    "# Dowload the dataset from Roboflow\n",
    "\n",
    "from roboflow import Roboflow\n",
    "rf = Roboflow(api_key=\"lsMUyqEwAhueesw6QDJe\")\n",
    "project = rf.workspace(\"yololam\").project(\"sh17_violence\")\n",
    "version = project.version(9)\n",
    "dataset = version.download(\"yolov8\")     "
   ]
  },
  {
   "cell_type": "code",
   "execution_count": null,
   "id": "b595dfbe",
   "metadata": {},
   "outputs": [],
   "source": [
    "# Dataset path\n",
    "# Đặt lại tên giống thư mục dữ liệu được tải xuống\n",
    "\n",
    "BASE_PATH_2 = \"./SH17_Violence.v9-dataset-original-1.yolov8\"\n",
    "print(os.listdir(BASE_PATH))"
   ]
  },
  {
   "cell_type": "code",
   "execution_count": null,
   "id": "a23fb23b",
   "metadata": {},
   "outputs": [],
   "source": [
    "IMAGES_PATH_2 = os.path.join(BASE_PATH, \"train/images\")\n",
    "LABELS_PATH_2 = os.path.join(BASE_PATH, \"train/labels\")\n",
    "TRAIN_FILES_2 = os.path.join(BASE_PATH, \"train_files.txt\")\n",
    "VAL_FILES_2 = os.path.join(BASE_PATH, \"val_files.txt\")"
   ]
  },
  {
   "cell_type": "code",
   "execution_count": null,
   "id": "8672e5fe",
   "metadata": {},
   "outputs": [],
   "source": [
    "class_df_2 = analyze_class_distribution(LABELS_PATH_2)\n",
    "class_df_2.head()"
   ]
  },
  {
   "cell_type": "code",
   "execution_count": null,
   "id": "11d6da02",
   "metadata": {},
   "outputs": [],
   "source": [
    "class_names = ['ear', 'ear-mufs', 'face', 'face-guard', 'face-mask', 'foot', 'glasses', \n",
    "               'gloves', 'hands', 'head', 'helmet', 'medical-suit', 'no-gloves', 'no-helmet', \n",
    "               'no-safety-vest', 'person', 'safety-suit', 'safety-vest', 'shoes', 'tool']\n",
    "plot_class_distribution(class_df_2.rename(columns={'Count Instances': 'Count'}), class_names)"
   ]
  },
  {
   "cell_type": "markdown",
   "id": "10684d9f",
   "metadata": {},
   "source": [
    "Phân tích mô hình được huấn luyện"
   ]
  },
  {
   "cell_type": "code",
   "execution_count": 1,
   "id": "c7bbee7a",
   "metadata": {},
   "outputs": [],
   "source": [
    "import cv2\n",
    "import matplotlib.pyplot as plt\n",
    "import os\n",
    "from ultralytics import YOLO\n",
    "from IPython.display import Image\n",
    "import random"
   ]
  },
  {
   "cell_type": "code",
   "execution_count": 3,
   "id": "a4b11f80",
   "metadata": {},
   "outputs": [],
   "source": [
    "def visualize_yolo_result(results, image_path, class_names=None, conf_threshold=0.5):\n",
    "\n",
    "    image = cv2.imread(image_path)\n",
    "    img = image.copy()\n",
    "    \n",
    "    detections = results[0].boxes  # lấy boxes từ kết quả đầu tiên\n",
    "\n",
    "    # Tạo màu ngẫu nhiên cho từng class\n",
    "    if class_names is None:\n",
    "        class_names = results[0].names  # lấy tên lớp từ model (dict)\n",
    "        class_names = [class_names[i] for i in sorted(class_names.keys())]\n",
    "\n",
    "    box_color_map = {\n",
    "        class_id: tuple([random.randint(0, 255) for _ in range(3)])\n",
    "        for class_id in range(len(class_names))\n",
    "    }\n",
    "\n",
    "    for box in detections:\n",
    "        x1, y1, x2, y2 = map(int, box.xyxy[0].tolist())\n",
    "        conf = float(box.conf[0])\n",
    "        class_id = int(box.cls[0])\n",
    "\n",
    "        if conf < conf_threshold:\n",
    "            continue\n",
    "\n",
    "        label = f\"{class_names[class_id]}: {conf*100:.1f}%\"\n",
    "        color = box_color_map[class_id]\n",
    "\n",
    "        # Vẽ khung\n",
    "        cv2.rectangle(img, (x1, y1), (x2, y2), color, 2)\n",
    "\n",
    "        # Ghi nhãn\n",
    "        (w, h), _ = cv2.getTextSize(label, cv2.FONT_HERSHEY_SIMPLEX, 0.5, 1)\n",
    "        cv2.rectangle(img, (x1, y1 - h - 8), (x1 + w, y1), color, -1)\n",
    "        cv2.putText(img, label, (x1, y1 - 4), cv2.FONT_HERSHEY_SIMPLEX, 0.5,\n",
    "                    (255, 255, 255), 1, cv2.LINE_AA)\n",
    "\n",
    "    # Chuyển sang RGB để hiển thị bằng matplotlib\n",
    "    img_rgb = cv2.cvtColor(img, cv2.COLOR_BGR2RGB)\n",
    "    plt.figure(figsize=(10, 8))\n",
    "    plt.imshow(img_rgb)\n",
    "    plt.axis('off')\n",
    "    plt.title(\"YOLO Detection Visualization\")\n",
    "    plt.show()"
   ]
  },
  {
   "cell_type": "code",
   "execution_count": 4,
   "id": "857e1494",
   "metadata": {},
   "outputs": [],
   "source": [
    "# Predict on an image\n",
    "\n",
    "test_image_path = 'test_dataset/background-check-2739233_1280.jpg'"
   ]
  },
  {
   "cell_type": "code",
   "execution_count": 21,
   "id": "d430ebd0",
   "metadata": {},
   "outputs": [],
   "source": [
    "model = YOLO('./test.pt')"
   ]
  },
  {
   "cell_type": "code",
   "execution_count": null,
   "id": "32f0ed17",
   "metadata": {},
   "outputs": [],
   "source": [
    "results = model.predict(source=test_image_path, conf=0.6, iou=0.5, show=False, save=True, save_txt=True)\n",
    "\n",
    "result = results[0]\n",
    "\n",
    "# Hiển thị chỉ số lớp:\n",
    "print(result.boxes.cls)\n",
    "\n",
    "class_names = result.names\n",
    "class_ids = result.boxes.cls.int().tolist()\n",
    "labels = [class_names[i] for i in class_ids]\n",
    "print(labels)\n",
    "\n",
    "visualize_yolo_result(results, test_image_path)"
   ]
  }
 ],
 "metadata": {
  "kernelspec": {
   "display_name": "Python 3",
   "language": "python",
   "name": "python3"
  },
  "language_info": {
   "codemirror_mode": {
    "name": "ipython",
    "version": 3
   },
   "file_extension": ".py",
   "mimetype": "text/x-python",
   "name": "python",
   "nbconvert_exporter": "python",
   "pygments_lexer": "ipython3",
   "version": "3.12.5"
  }
 },
 "nbformat": 4,
 "nbformat_minor": 5
}
